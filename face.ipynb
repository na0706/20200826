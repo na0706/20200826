{
  "nbformat": 4,
  "nbformat_minor": 0,
  "metadata": {
    "colab": {
      "name": "face.ipynb",
      "provenance": [],
      "mount_file_id": "1QRhy54iFsyal91W07mtFI7QjbnP61rXp",
      "authorship_tag": "ABX9TyO2y2XwknITbeq/BRqhsOpU",
      "include_colab_link": true
    },
    "kernelspec": {
      "name": "python3",
      "display_name": "Python 3"
    }
  },
  "cells": [
    {
      "cell_type": "markdown",
      "metadata": {
        "id": "view-in-github",
        "colab_type": "text"
      },
      "source": [
        "<a href=\"https://colab.research.google.com/github/na0706/20200826/blob/master/face.ipynb\" target=\"_parent\"><img src=\"https://colab.research.google.com/assets/colab-badge.svg\" alt=\"Open In Colab\"/></a>"
      ]
    },
    {
      "cell_type": "code",
      "metadata": {
        "id": "kAro7wb4sGbz",
        "colab_type": "code",
        "colab": {}
      },
      "source": [
        "import cv2\n",
        "import matplotlib.pyplot as plt\n",
        "import sys\n",
        "from keras.preprocessing.image import array_to_img,img_to_array,load_img\n",
        "import numpy as np\n",
        "import os\n",
        "\n",
        "cascade_path=\"/content/drive/My Drive/summer01/haarcascade_frontalface_alt (2).xml\"\n",
        "\n",
        "X_train=[]\n",
        "Y_train=[]\n",
        "\n",
        "X_test=[]\n",
        "Y_test=[]\n",
        "Mydribe = \"/content/drive/My Drive/summer01\"\n",
        "\n",
        "l=os.listdir(Mydribe + \"/original01\")"
      ],
      "execution_count": 2,
      "outputs": []
    },
    {
      "cell_type": "code",
      "metadata": {
        "id": "XuRembMtsLH0",
        "colab_type": "code",
        "colab": {
          "base_uri": "https://localhost:8080/",
          "height": 559
        },
        "outputId": "0026548d-e676-4ac4-9407-1cc7d9602594"
      },
      "source": [
        "# https://github.com/opencv/opencv/tree/master/data/haarcascades\n",
        "# https://raw.githubusercontent.com/opencv/opencv/master/data/haarcascades/haarcascade_frontalface_alt.xml\n",
        "\n",
        "\n",
        "for i in l:\n",
        "    result_dir=i.split(\".\")[0]\n",
        "    print(result_dir)\n",
        "    # os.mkdir(Mydribe + \"/face/\"+result_dir)\n",
        "    os.makedirs(Mydribe + \"/face/\"+result_dir, exist_ok=True)\n",
        "\n",
        "    m=os.listdir(Mydribe + \"/original01/\"+i)\n",
        "    n=0\n",
        "    for target_file in m:\n",
        "        origin_image=(Mydribe + \"/original01/\"+i+\"/\"+target_file)\n",
        "        print(origin_image)\n",
        "        cascade=cv2.CascadeClassifier(cascade_path)\n",
        "        image=cv2.imread(origin_image)\n",
        "\n",
        "        image=cv2.cvtColor(image,cv2.COLOR_BGR2RGB)\n",
        "        gray=cv2.cvtColor(image,cv2.COLOR_RGB2GRAY)\n",
        "        plt.imshow(gray)\n",
        "\n",
        "        facerect=cascade.detectMultiScale(gray,scaleFactor=1.1,minNeighbors=1,minSize=(10,10))\n",
        "\n",
        "        for x,y,w,h in facerect:\n",
        "            face=gray[y:y+h,x:x+w]\n",
        "            face=cv2.resize(face,(128,128))\n",
        "            save_path=Mydribe + \"/face/\"+result_dir+\"/image_\"+str(n)+\".jpg\"\n",
        "            cv2.imwrite(save_path,face)\n",
        "            n=n+1\n",
        "            face=cv2.flip(face,1)\n",
        "            save_path=Mydribe + \"/face/\"+result_dir+\"/image_\"+str(n)+\".jpg\"\n",
        "            cv2.imwrite(save_path,face)\n",
        "            n=n+1\n",
        "            face=cv2.blur(face,(10,10))\n",
        "            save_path=Mydribe + \"/face/\"+result_dir+\"/image_\"+str(n)+\".jpg\"\n",
        "            cv2.imwrite(save_path,face)\n",
        "            n=n+1\n",
        "            face=cv2.blur(cv2.flip(face,1),(10,10))\n",
        "            save_path=Mydribe + \"/face/\"+result_dir+\"/image_\"+str(n)+\".jpg\"\n",
        "            cv2.imwrite(save_path,face)\n",
        "            n=n+1"
      ],
      "execution_count": null,
      "outputs": [
        {
          "output_type": "stream",
          "text": [
            "\n",
            "naganomei\n",
            "/content/drive/My Drive/summer01/original01/naganomei/000004.jpg\n",
            "/content/drive/My Drive/summer01/original01/naganomei/000005.jpg\n",
            "/content/drive/My Drive/summer01/original01/naganomei/000006.jpg\n",
            "/content/drive/My Drive/summer01/original01/naganomei/000008.jpg\n",
            "/content/drive/My Drive/summer01/original01/naganomei/000009.jpg\n",
            "ishihara\n",
            "/content/drive/My Drive/summer01/original01/ishihara/000004.jpg\n",
            "/content/drive/My Drive/summer01/original01/ishihara/000005.jpg\n",
            "/content/drive/My Drive/summer01/original01/ishihara/000006.jpg\n",
            "/content/drive/My Drive/summer01/original01/ishihara/000007.jpg\n",
            "/content/drive/My Drive/summer01/original01/ishihara/000008.jpg\n",
            "/content/drive/My Drive/summer01/original01/ishihara/000009.jpg\n",
            "/content/drive/My Drive/summer01/original01/ishihara/000010.jpg\n",
            "kubota\n",
            "/content/drive/My Drive/summer01/original01/kubota/000004.jpg\n",
            "/content/drive/My Drive/summer01/original01/kubota/000005.jpg\n",
            "/content/drive/My Drive/summer01/original01/kubota/000006.jpg\n",
            "/content/drive/My Drive/summer01/original01/kubota/000007.jpg\n",
            "/content/drive/My Drive/summer01/original01/kubota/000008.jpg\n",
            "/content/drive/My Drive/summer01/original01/kubota/000009.jpg\n",
            "/content/drive/My Drive/summer01/original01/kubota/000010.jpg\n",
            "test\n",
            "/content/drive/My Drive/summer01/original01/test/000001 (2).jpg\n",
            "/content/drive/My Drive/summer01/original01/test/000002 (2).jpg\n",
            "/content/drive/My Drive/summer01/original01/test/000003 (2).jpg\n",
            "/content/drive/My Drive/summer01/original01/test/000001 (1).jpg\n",
            "/content/drive/My Drive/summer01/original01/test/000002 (1).jpg\n",
            "/content/drive/My Drive/summer01/original01/test/000003 (1).jpg\n",
            "/content/drive/My Drive/summer01/original01/test/000001.jpg\n"
          ],
          "name": "stdout"
        }
      ]
    },
    {
      "cell_type": "code",
      "metadata": {
        "id": "OqLO82FusM8-",
        "colab_type": "code",
        "colab": {}
      },
      "source": [
        ""
      ],
      "execution_count": null,
      "outputs": []
    }
  ]
}