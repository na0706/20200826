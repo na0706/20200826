{
  "nbformat": 4,
  "nbformat_minor": 0,
  "metadata": {
    "colab": {
      "name": "Untitled0.ipynb",
      "provenance": [],
      "toc_visible": true,
      "mount_file_id": "1R2EkPvNK3Ao38wto6bWQkKhMRvPLxArf",
      "authorship_tag": "ABX9TyNWDhiwidJ1vaIl+FgZ2wls",
      "include_colab_link": true
    },
    "kernelspec": {
      "name": "python3",
      "display_name": "Python 3"
    }
  },
  "cells": [
    {
      "cell_type": "markdown",
      "metadata": {
        "id": "view-in-github",
        "colab_type": "text"
      },
      "source": [
        "<a href=\"https://colab.research.google.com/github/na0706/20200826/blob/master/Untitled0.ipynb\" target=\"_parent\"><img src=\"https://colab.research.google.com/assets/colab-badge.svg\" alt=\"Open In Colab\"/></a>"
      ]
    },
    {
      "cell_type": "code",
      "metadata": {
        "id": "gcy4mGfudOs7",
        "colab_type": "code",
        "colab": {
          "base_uri": "https://localhost:8080/",
          "height": 122
        },
        "outputId": "d41b4558-0593-4c8e-ccca-c63d0b06fdd9"
      },
      "source": [
        "import sys\n",
        "sys.path.append('/content/drive/My Drive/summer01')\n",
        "\n",
        "import ic_module as ic\n",
        "\n",
        "import importlib\n",
        "importlib.reload(ic)\n",
        "\n",
        "import os.path as op\n",
        "\n",
        "i = 0\n",
        "for filename in ic.FileNames :\n",
        "    # ディレクトリ名入力\n",
        "    while True :\n",
        "        dirname = input(\">>「\" + ic.ClassNames[i] + \"」の画像のあるディレクトリ ： \")\n",
        "        if op.isdir(dirname) :\n",
        "            break\n",
        "        print(\">> そのディレクトリは存在しません！\")\n",
        "\n",
        "    # 関数実行\n",
        "    ic.PreProcess(dirname, filename, var_amount=3)\n",
        "    i += 1"
      ],
      "execution_count": 3,
      "outputs": [
        {
          "output_type": "stream",
          "text": [
            ">>「ishihara」の画像のあるディレクトリ ： /content/drive/My Drive/summer01/face/ishihara\n",
            ">> /content/drive/My Drive/summer01/face/ishiharaから28個のファイル読み込み成功\n",
            ">>「kubota」の画像のあるディレクトリ ： /content/drive/My Drive/summer01/face/kubota\n",
            ">> /content/drive/My Drive/summer01/face/kubotaから28個のファイル読み込み成功\n",
            ">>「naganomei」の画像のあるディレクトリ ： /content/drive/My Drive/summer01/face/naganomei\n",
            ">> /content/drive/My Drive/summer01/face/naganomeiから28個のファイル読み込み成功\n"
          ],
          "name": "stdout"
        }
      ]
    },
    {
      "cell_type": "code",
      "metadata": {
        "id": "SY_qTlqydP0I",
        "colab_type": "code",
        "colab": {}
      },
      "source": [
        ""
      ],
      "execution_count": null,
      "outputs": []
    }
  ]
}